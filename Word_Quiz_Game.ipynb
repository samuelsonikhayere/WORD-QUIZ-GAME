{
  "nbformat": 4,
  "nbformat_minor": 0,
  "metadata": {
    "colab": {
      "provenance": [],
      "authorship_tag": "ABX9TyN8Yx94vvD5Q6dXz76ZVyi0",
      "include_colab_link": true
    },
    "kernelspec": {
      "name": "python3",
      "display_name": "Python 3"
    },
    "language_info": {
      "name": "python"
    }
  },
  "cells": [
    {
      "cell_type": "markdown",
      "metadata": {
        "id": "view-in-github",
        "colab_type": "text"
      },
      "source": [
        "<a href=\"https://colab.research.google.com/github/samuelsonikhayere/WORD-QUIZ-GAME/blob/main/Word_Quiz_Game.ipynb\" target=\"_parent\"><img src=\"https://colab.research.google.com/assets/colab-badge.svg\" alt=\"Open In Colab\"/></a>"
      ]
    },
    {
      "cell_type": "code",
      "execution_count": null,
      "metadata": {
        "id": "HDMBF8ZFSclq"
      },
      "outputs": [],
      "source": [
        "\n",
        "import random\n",
        "\n",
        "name = input (\"Enter your name: \")\n",
        "goodluck = (f\"Goodluck {name}\")\n",
        "print (goodluck)\n",
        "\n",
        "words = [\"simeon\", \"sunny\",\"stanley\",\"saviour\",\"sunday\",\"solomon\",\"santos\",\"silas\",\"stephen\"]\n",
        "random_word = random.choices(words)\n",
        "\n",
        "print()\n",
        "print(words)\n",
        "print()\n",
        "print (\"Guess the character that the computer will pick from the list given\")\n",
        "\n",
        "user_guesses = \" \"\n",
        "chances = 5\n",
        "\n",
        "\n",
        "while chances > 0:\n",
        "    guess = input (\"Make a guess: \")\n",
        "    for i in random_word:\n",
        "        if guess == i:\n",
        "          print()\n",
        "          print (\"You are correct\")\n",
        "          print (\"Congratulations\")\n",
        "          chances = 0\n",
        "          \n",
        "        else:\n",
        "          chances -=1\n",
        "          print()\n",
        "          print (\"You are wrong\")\n",
        "          print (f\"You have {chances} chances left\")\n",
        "          print()\n",
        "\n",
        "    if chances == 0:\n",
        "          print()\n",
        "          print(\"Thanks for playing\")\n",
        "          print(f\"The random word is {random_word}\")\n"
      ]
    }
  ]
}