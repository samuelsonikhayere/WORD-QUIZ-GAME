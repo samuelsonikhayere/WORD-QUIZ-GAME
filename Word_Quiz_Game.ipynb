import random

name = input ("Enter your name: ")
goodluck = (f"Goodluck {name}")
print (goodluck)

words = ["simeon", "sunny","stanley","saviour","sunday","solomon","santos","silas","stephen"]
random_word = random.choices(words)

print()
print(words)
print()
print(random_word)
print ("Guess the character that the computer will pick from the list given")

user_guesses = " "
chances = 5


while chances > 0:
    guess = input ("Make a guess: ")
    for i in random_word:
        if guess == i:
          print()
          print ("You are correct")
          print ("Congratulations")
          chances = 0
          
        else:
          chances -=1
          print()
          print ("You are wrong")
          print (f"You have {chances} chances left")
          print()

    if chances == 0:
          print()
          print("Thanks for playing")
          print(f"The random word is {random_word}")
